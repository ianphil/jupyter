{
 "metadata": {
  "language_info": {
   "codemirror_mode": {
    "name": "ipython",
    "version": 3
   },
   "file_extension": ".py",
   "mimetype": "text/x-python",
   "name": "python",
   "nbconvert_exporter": "python",
   "pygments_lexer": "ipython3",
   "version": "3.8.5-final"
  },
  "orig_nbformat": 2,
  "kernelspec": {
   "name": "python3",
   "display_name": "Python 3"
  }
 },
 "nbformat": 4,
 "nbformat_minor": 2,
 "cells": [
  {
   "source": [
    "# Using Key Vault from a Jupyter Notebook\n",
    "\n",
    "The intent of this notebook is to demonstrate using Key Vault to retrieve secrets.\n",
    "\n",
    "## Dependancies\n",
    "You will need the following ENV VARS in `.env` file:\n",
    "```bash\n",
    "AZURE_CLIENT_ID=\"xxx-xxxx\"\n",
    "AZURE_CLIENT_SECRET=\"xxx-xxxx\"\n",
    "AZURE_TENANT_ID=\"xxx-xxxx\"\n",
    "KEYVAULTURL=\"https://YOURKEYVAULTNAME.vault.azure.net/\"\n",
    "```\n",
    "\n",
    "You need to run `pip install azure-keyvault-secrets azure-identity` also.\n",
    "\n",
    "## 1. Load local secrets for authenticating to Key Vault"
   ],
   "cell_type": "markdown",
   "metadata": {}
  },
  {
   "cell_type": "code",
   "execution_count": null,
   "metadata": {},
   "outputs": [],
   "source": [
    "import os\n",
    "from dotenv import load_dotenv\n",
    "from azure.identity import DefaultAzureCredential\n",
    "from azure.keyvault.secrets import SecretClient\n",
    "\n",
    "if os.getcwd() == '/home/jovyan':\n",
    "    os.chdir('/home/jovyan/work')\n",
    "\n",
    "load_dotenv()"
   ]
  },
  {
   "cell_type": "code",
   "execution_count": null,
   "metadata": {},
   "outputs": [],
   "source": [
    "## 2. Create Secret Client using local secrets\n",
    "\n",
    "key_vault_url = os.getenv(\"KEYVAULTURL\")\n",
    "credential = DefaultAzureCredential()\n",
    "secret_client = SecretClient(vault_url=key_vault_url, credential=credential)"
   ]
  },
  {
   "cell_type": "code",
   "execution_count": null,
   "metadata": {},
   "outputs": [],
   "source": [
    "## 3. Set secret\n",
    "\n",
    "secret = secret_client.set_secret(\"secret-name\", \"secret-value\")\n",
    "\n",
    "print(secret.name)\n",
    "print(secret.value)\n",
    "print(secret.properties.version)"
   ]
  },
  {
   "cell_type": "code",
   "execution_count": null,
   "metadata": {},
   "outputs": [],
   "source": [
    "## 4. Retrieve secret\n",
    "\n",
    "secret = secret_client.get_secret(\"secret-name\")\n",
    "\n",
    "print(secret.name)\n",
    "print(secret.value)"
   ]
  },
  {
   "cell_type": "code",
   "execution_count": null,
   "metadata": {},
   "outputs": [],
   "source": [
    "## 5. List secrets\n",
    "\n",
    "secret_properties = secret_client.list_properties_of_secrets()\n",
    "\n",
    "for secret_property in secret_properties:\n",
    "    # the list doesn't include values or versions of the secrets\n",
    "    print(secret_property.name)"
   ]
  },
  {
   "cell_type": "code",
   "execution_count": null,
   "metadata": {},
   "outputs": [],
   "source": [
    "## 6. Delete secret\n",
    "\n",
    "deleted_secret = secret_client.begin_delete_secret(\"secret-name\").result()\n",
    "\n",
    "print(deleted_secret.name)\n",
    "print(deleted_secret.deleted_date)"
   ]
  }
 ]
}