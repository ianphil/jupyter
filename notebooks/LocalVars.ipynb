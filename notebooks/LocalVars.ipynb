{
 "cells": [
  {
   "cell_type": "markdown",
   "metadata": {},
   "source": [
    "## READ THIS:\n",
    "While working in the browser, the notebook's working directory is correct and we don't need to do any work. However this is not guaranteed while using VSCode so the next cell normalizes the working directory in this case.\n",
    "\n",
    "You also may need to run `pip install python-dotenv` in an empty cell to make the load work."
   ]
  },
  {
   "cell_type": "code",
   "execution_count": null,
   "metadata": {},
   "outputs": [],
   "source": [
    "import os\n",
    "\n",
    "cwd = os.getcwd()\n",
    "\n",
    "if cwd == '/home/jovyan':\n",
    "    os.chdir('/home/jovyan/work')\n",
    "    print('Changed to WORK directory')\n",
    "else:\n",
    "    print('WORK is current directory')\n"
   ]
  },
  {
   "cell_type": "code",
   "execution_count": null,
   "metadata": {},
   "outputs": [],
   "source": [
    "dotenv_exists = os.path.exists('.env')\n",
    "\n",
    "if not dotenv_exists:\n",
    "    with open('.env', 'w') as f:\n",
    "        f.write(\"IAN=PHILPOT\")\n",
    "    print('Created test ENV VAR')\n",
    "else:\n",
    "    print('File with ENV VAR exists.')"
   ]
  },
  {
   "cell_type": "code",
   "execution_count": null,
   "metadata": {},
   "outputs": [],
   "source": [
    "from dotenv import load_dotenv\n",
    "load_dotenv()"
   ]
  },
  {
   "cell_type": "code",
   "execution_count": null,
   "metadata": {},
   "outputs": [],
   "source": [
    "secret = os.getenv(\"IAN\")\n",
    "print(secret)"
   ]
  }
 ],
 "metadata": {
  "kernelspec": {
   "display_name": "Python 3",
   "language": "python",
   "name": "python3"
  },
  "language_info": {
   "codemirror_mode": {
    "name": "ipython",
    "version": 3
   },
   "file_extension": ".py",
   "mimetype": "text/x-python",
   "name": "python",
   "nbconvert_exporter": "python",
   "pygments_lexer": "ipython3",
   "version": "3.8.5-final"
  }
 },
 "nbformat": 4,
 "nbformat_minor": 4
}